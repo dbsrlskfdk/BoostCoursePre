{
 "cells": [
  {
   "cell_type": "code",
   "execution_count": 3,
   "id": "12f1666d",
   "metadata": {
    "ExecuteTime": {
     "end_time": "2023-01-25T04:32:33.940232Z",
     "start_time": "2023-01-25T04:32:33.922242Z"
    }
   },
   "outputs": [],
   "source": [
    "from collections import defaultdict"
   ]
  },
  {
   "cell_type": "code",
   "execution_count": 4,
   "id": "8a74b658",
   "metadata": {
    "ExecuteTime": {
     "end_time": "2023-01-25T04:32:34.409236Z",
     "start_time": "2023-01-25T04:32:34.402241Z"
    }
   },
   "outputs": [],
   "source": [
    "tickets = [[\"ICN\", \"A\"],\n",
    "           [\"ICN\", \"B\"],\n",
    "           ['B', 'ICN']]"
   ]
  },
  {
   "cell_type": "code",
   "execution_count": 15,
   "id": "4015cb85",
   "metadata": {
    "ExecuteTime": {
     "end_time": "2023-01-25T06:48:40.431951Z",
     "start_time": "2023-01-25T06:48:40.418969Z"
    }
   },
   "outputs": [],
   "source": [
    "graph = defaultdict(list)\n",
    "visit = set()"
   ]
  },
  {
   "cell_type": "code",
   "execution_count": 16,
   "id": "b01800b6",
   "metadata": {
    "ExecuteTime": {
     "end_time": "2023-01-25T06:48:40.619342Z",
     "start_time": "2023-01-25T06:48:40.612356Z"
    }
   },
   "outputs": [],
   "source": [
    "for i in tickets:\n",
    "    a, b = i\n",
    "    graph[a].append(b)\n",
    "    visit.add(a)\n",
    "    visit.add(b)\n",
    "    \n",
    "for i in graph:\n",
    "    graph[i].sort()"
   ]
  },
  {
   "cell_type": "code",
   "execution_count": 17,
   "id": "fcd8e9ee",
   "metadata": {
    "ExecuteTime": {
     "end_time": "2023-01-25T06:48:41.107229Z",
     "start_time": "2023-01-25T06:48:41.090239Z"
    }
   },
   "outputs": [],
   "source": [
    "visit = list(visit)\n",
    "tmp = {}\n",
    "for i in visit:\n",
    "    tmp[i] = False\n",
    "visit = tmp"
   ]
  },
  {
   "cell_type": "markdown",
   "id": "71368dd1",
   "metadata": {},
   "source": [
    "## Problems\n",
    "---\n",
    "일반적으로 graph를 초기화 시킨 뒤, 목적지를 오름차순으로 나열하여 진행하면 수월하게 풀릴 것으로 생각.\n",
    "하지만 `[[\"ICN\", \"A\"], [\"ICN\", \"B\"], ['B', 'ICN']]` 처럼, `'ICN' -> 'A'`를 진행하게 됐을 때, 돌아오는편이 없기에 모든 비행권을 사용하지 못하고, 끝나게 되는 문제가 발생\n",
    "\n",
    "## Solution\n",
    "---\n",
    "* 항공권을 사용할 때 `'A' -> 'B'`라고 가정한다면, `'B'`에서부터 출발하는 항공권이 있는지 확인 $\\rightarrow$ 두가지 Case를 생각할 수 있음\n",
    "    * 첫번쨰. 아예 `'B'`가 `tickets`에 __존재하지 않을 때__\n",
    "    * 두번째, `'B'`가 `tickets`에 존재하지만, __그 `list`가 비어있을 때__ (`B`로부터 출발하는 항공권을 __모두 사용한 상태__)\n",
    "  \n",
    "이 조건들을 고려해서 코드 작성을 생각해보자.."
   ]
  },
  {
   "cell_type": "code",
   "execution_count": 18,
   "id": "cd22b1f4",
   "metadata": {
    "ExecuteTime": {
     "end_time": "2023-01-25T06:48:41.883913Z",
     "start_time": "2023-01-25T06:48:41.858917Z"
    }
   },
   "outputs": [
    {
     "name": "stdout",
     "output_type": "stream",
     "text": [
      "defaultdict(<class 'list'>, {'ICN': ['B'], 'B': ['ICN']})\n",
      "defaultdict(<class 'list'>, {'ICN': ['B', 'A'], 'B': ['ICN']})\n",
      "ICN B ICN "
     ]
    },
    {
     "ename": "IndexError",
     "evalue": "pop from empty list",
     "output_type": "error",
     "traceback": [
      "\u001b[1;31m---------------------------------------------------------------------------\u001b[0m",
      "\u001b[1;31mIndexError\u001b[0m                                Traceback (most recent call last)",
      "\u001b[1;32m~\\AppData\\Local\\Temp\\ipykernel_42144\\2271182468.py\u001b[0m in \u001b[0;36m<module>\u001b[1;34m\u001b[0m\n\u001b[0;32m     21\u001b[0m         \u001b[0mtour\u001b[0m\u001b[1;33m.\u001b[0m\u001b[0mappend\u001b[0m\u001b[1;33m(\u001b[0m\u001b[0mb\u001b[0m\u001b[1;33m)\u001b[0m\u001b[1;33m\u001b[0m\u001b[1;33m\u001b[0m\u001b[0m\n\u001b[0;32m     22\u001b[0m     \u001b[1;32mif\u001b[0m \u001b[1;32mnot\u001b[0m \u001b[0mb\u001b[0m \u001b[1;32min\u001b[0m \u001b[0mgraph\u001b[0m\u001b[1;33m.\u001b[0m\u001b[0mkeys\u001b[0m\u001b[1;33m(\u001b[0m\u001b[1;33m)\u001b[0m \u001b[1;32mor\u001b[0m \u001b[0mlen\u001b[0m\u001b[1;33m(\u001b[0m\u001b[0mgraph\u001b[0m\u001b[1;33m[\u001b[0m\u001b[0mb\u001b[0m\u001b[1;33m]\u001b[0m\u001b[1;33m)\u001b[0m \u001b[1;33m==\u001b[0m \u001b[1;36m0\u001b[0m\u001b[1;33m:\u001b[0m\u001b[1;33m\u001b[0m\u001b[1;33m\u001b[0m\u001b[0m\n\u001b[1;32m---> 23\u001b[1;33m         \u001b[0mgraph\u001b[0m\u001b[1;33m[\u001b[0m\u001b[0mp\u001b[0m\u001b[1;33m]\u001b[0m\u001b[1;33m.\u001b[0m\u001b[0mappend\u001b[0m\u001b[1;33m(\u001b[0m\u001b[0mtour\u001b[0m\u001b[1;33m.\u001b[0m\u001b[0mpop\u001b[0m\u001b[1;33m(\u001b[0m\u001b[1;33m)\u001b[0m\u001b[1;33m)\u001b[0m\u001b[1;33m\u001b[0m\u001b[1;33m\u001b[0m\u001b[0m\n\u001b[0m\u001b[0;32m     24\u001b[0m         \u001b[0mtour\u001b[0m\u001b[1;33m.\u001b[0m\u001b[0mappend\u001b[0m\u001b[1;33m(\u001b[0m\u001b[0mgraph\u001b[0m\u001b[1;33m[\u001b[0m\u001b[0mp\u001b[0m\u001b[1;33m]\u001b[0m\u001b[1;33m.\u001b[0m\u001b[0mpop\u001b[0m\u001b[1;33m(\u001b[0m\u001b[1;36m0\u001b[0m\u001b[1;33m)\u001b[0m\u001b[1;33m)\u001b[0m\u001b[1;33m\u001b[0m\u001b[1;33m\u001b[0m\u001b[0m\n\u001b[0;32m     25\u001b[0m \u001b[1;33m\u001b[0m\u001b[0m\n",
      "\u001b[1;31mIndexError\u001b[0m: pop from empty list"
     ]
    }
   ],
   "source": [
    "answer = []\n",
    "\n",
    "tour = []\n",
    "if len(graph['ICN']) != 0:\n",
    "    b = graph['ICN'].pop(0)\n",
    "    tour.append(b)\n",
    "print(graph)\n",
    "if not b in graph.keys() or len(graph[b]) == 0:\n",
    "    graph['ICN'].append(tour.pop())\n",
    "    print(graph)\n",
    "    tour.append(graph['ICN'].pop(0))\n",
    "\n",
    "answer.append('ICN')\n",
    "print('ICN', end=' ')\n",
    "\n",
    "while tour:\n",
    "    p = tour.pop(0)\n",
    "    \n",
    "    if len(graph[p]) != 0:\n",
    "        b = graph[p].pop(0)\n",
    "        tour.append(b)\n",
    "        \n",
    "        if not b in graph.keys():\n",
    "            graph[p].append(tour.pop())\n",
    "            tour.append(graph[p].pop(0))\n",
    "        elif len(graph[b]) == 0:\n",
    "            \n",
    "            \n",
    "    if not b in graph.keys() or len(graph[b]) == 0:\n",
    "        if len(tour) != 0:\n",
    "            graph[p].append(tour.pop())\n",
    "        tour.append(graph[p].pop(0))\n",
    "    \n",
    "    answer.append(p)\n",
    "    print(p, end=' ')"
   ]
  },
  {
   "cell_type": "code",
   "execution_count": 23,
   "id": "a35c4756",
   "metadata": {
    "ExecuteTime": {
     "end_time": "2023-01-25T06:49:32.246519Z",
     "start_time": "2023-01-25T06:49:32.226518Z"
    }
   },
   "outputs": [
    {
     "data": {
      "text/plain": [
       "True"
      ]
     },
     "execution_count": 23,
     "metadata": {},
     "output_type": "execute_result"
    }
   ],
   "source": []
  },
  {
   "cell_type": "code",
   "execution_count": null,
   "id": "c51c3c6d",
   "metadata": {},
   "outputs": [],
   "source": []
  }
 ],
 "metadata": {
  "kernelspec": {
   "display_name": "Python 3 (ipykernel)",
   "language": "python",
   "name": "python3"
  },
  "language_info": {
   "codemirror_mode": {
    "name": "ipython",
    "version": 3
   },
   "file_extension": ".py",
   "mimetype": "text/x-python",
   "name": "python",
   "nbconvert_exporter": "python",
   "pygments_lexer": "ipython3",
   "version": "3.9.13"
  },
  "toc": {
   "base_numbering": 1,
   "nav_menu": {},
   "number_sections": true,
   "sideBar": true,
   "skip_h1_title": false,
   "title_cell": "Table of Contents",
   "title_sidebar": "Contents",
   "toc_cell": false,
   "toc_position": {},
   "toc_section_display": true,
   "toc_window_display": false
  },
  "varInspector": {
   "cols": {
    "lenName": 16,
    "lenType": 16,
    "lenVar": 40
   },
   "kernels_config": {
    "python": {
     "delete_cmd_postfix": "",
     "delete_cmd_prefix": "del ",
     "library": "var_list.py",
     "varRefreshCmd": "print(var_dic_list())"
    },
    "r": {
     "delete_cmd_postfix": ") ",
     "delete_cmd_prefix": "rm(",
     "library": "var_list.r",
     "varRefreshCmd": "cat(var_dic_list()) "
    }
   },
   "oldHeight": 122.844,
   "position": {
    "height": "139.844px",
    "left": "567px",
    "right": "20px",
    "top": "120px",
    "width": "326px"
   },
   "types_to_exclude": [
    "module",
    "function",
    "builtin_function_or_method",
    "instance",
    "_Feature"
   ],
   "varInspector_section_display": "block",
   "window_display": true
  }
 },
 "nbformat": 4,
 "nbformat_minor": 5
}
