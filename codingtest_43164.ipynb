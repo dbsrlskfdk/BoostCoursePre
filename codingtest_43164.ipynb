{
 "cells": [
  {
   "cell_type": "code",
   "execution_count": 2,
   "id": "12f1666d",
   "metadata": {
    "ExecuteTime": {
     "end_time": "2023-01-26T02:00:49.932118Z",
     "start_time": "2023-01-26T02:00:49.916128Z"
    }
   },
   "outputs": [],
   "source": [
    "from collections import defaultdict"
   ]
  },
  {
   "cell_type": "code",
   "execution_count": 40,
   "id": "8a74b658",
   "metadata": {
    "ExecuteTime": {
     "end_time": "2023-01-26T02:10:54.748595Z",
     "start_time": "2023-01-26T02:10:54.739591Z"
    }
   },
   "outputs": [],
   "source": [
    "tickets = [[\"ICN\", \"A\"], [\"A\", \"B\"], [\"A\", \"C\"], [\"C\", \"A\"], [\"B\", \"D\"]]"
   ]
  },
  {
   "cell_type": "code",
   "execution_count": 52,
   "id": "4015cb85",
   "metadata": {
    "ExecuteTime": {
     "end_time": "2023-01-26T04:23:22.627486Z",
     "start_time": "2023-01-26T04:23:22.612485Z"
    }
   },
   "outputs": [],
   "source": [
    "graph = defaultdict(list)\n",
    "visit = set()"
   ]
  },
  {
   "cell_type": "code",
   "execution_count": 53,
   "id": "b01800b6",
   "metadata": {
    "ExecuteTime": {
     "end_time": "2023-01-26T04:23:22.765867Z",
     "start_time": "2023-01-26T04:23:22.747182Z"
    }
   },
   "outputs": [],
   "source": [
    "for i in tickets:\n",
    "    a, b = i\n",
    "    graph[a].append(b)\n",
    "    visit.add(a)\n",
    "    visit.add(b)\n",
    "    \n",
    "for i in graph:\n",
    "    graph[i].sort()"
   ]
  },
  {
   "cell_type": "code",
   "execution_count": 54,
   "id": "cdf5be06",
   "metadata": {
    "ExecuteTime": {
     "end_time": "2023-01-26T04:23:22.902954Z",
     "start_time": "2023-01-26T04:23:22.883955Z"
    }
   },
   "outputs": [],
   "source": [
    "tmp = {}\n",
    "for i in visit:\n",
    "    tmp[i] = False\n",
    "visit = tmp"
   ]
  },
  {
   "cell_type": "code",
   "execution_count": 36,
   "id": "727a2006",
   "metadata": {
    "ExecuteTime": {
     "end_time": "2023-01-26T02:08:10.354056Z",
     "start_time": "2023-01-26T02:08:10.339064Z"
    }
   },
   "outputs": [
    {
     "data": {
      "text/plain": [
       "{'D': False, 'B': False, 'A': False, 'ICN': False, 'C': False}"
      ]
     },
     "execution_count": 36,
     "metadata": {},
     "output_type": "execute_result"
    }
   ],
   "source": [
    "visit"
   ]
  },
  {
   "cell_type": "markdown",
   "id": "71368dd1",
   "metadata": {},
   "source": [
    "## Problems\n",
    "---\n",
    "일반적으로 graph를 초기화 시킨 뒤, 목적지를 오름차순으로 나열하여 진행하면 수월하게 풀릴 것으로 생각.\n",
    "하지만 `[[\"ICN\", \"A\"], [\"ICN\", \"B\"], ['B', 'ICN']]` 처럼, `'ICN' -> 'A'`를 진행하게 됐을 때, 돌아오는편이 없기에 모든 비행권을 사용하지 못하고, 끝나게 되는 문제가 발생\n",
    "\n",
    "## Solution\n",
    "---\n",
    "* 항공권을 사용할 때 `'A' -> 'B'`라고 가정한다면, `'B'`에서부터 출발하는 항공권이 있는지 확인 $\\rightarrow$ 두가지 Case를 생각할 수 있음\n",
    "    * 첫번쨰. 아예 `'B'`가 `tickets`에 __존재하지 않을 때__\n",
    "    * 두번째, `'B'`가 `tickets`에 존재하지만, __그 `list`가 비어있을 때__ (`B`로부터 출발하는 항공권을 __모두 사용한 상태__)\n",
    "  \n",
    "이 조건들을 고려해서 코드 작성을 생각해보자..\n",
    "\n",
    "- tour : Queue처럼 사용 중 \\\n",
    "(1).[ ] -> 'ICN' => tour = ['ICN'] \\\n",
    "(2).tour.pop(0) = 'ICN' $\\rightarrow$ `not 'ICN' in graph.keys() or len(graph['ICN']) == 0` : 'ICN'이 그래프에 없는 애거나, graph['ICN']의 길이가 0이면 돌아올 표가 없는 것 \\\n",
    "(3).`city = graph['ICN'].pop(0)` : `graph['ICN']`에 연결된 첫번째 도시 뽑기 \\\n",
    "    $\\rightarrow$ `not city in graph.keys() or len(graph[city]) == 0` : 해당 도시에서 돌아올 표가 있는지 확인 \\\n",
    "    $\\rightarrow$ 없다면, `graph['ICN'].append(city)`로 다시 `graph['ICN']`의 맨 뒤로 보내주기 \\\n",
    "    $\\rightarrow$ 있다면, `tour.append(city)`\n",
    "    "
   ]
  },
  {
   "cell_type": "code",
   "execution_count": 79,
   "id": "cd22b1f4",
   "metadata": {
    "ExecuteTime": {
     "end_time": "2023-01-26T01:49:28.853421Z",
     "start_time": "2023-01-26T01:49:28.841429Z"
    }
   },
   "outputs": [
    {
     "name": "stdout",
     "output_type": "stream",
     "text": [
      "ICN A B D "
     ]
    }
   ],
   "source": [
    "answer = []\n",
    "\n",
    "tour = ['ICN']\n",
    "\n",
    "while tour:\n",
    "    pri = tour.pop(0) # 1. pri = ICN ,tour = [] / 2. pri = 'B', tour = [] / 3. pri = 'ICN' , tour = []\n",
    "    \n",
    "    if len(graph[pri]) > 0:\n",
    "        city = graph[pri].pop(0) # 1. city = graph['ICN'].pop(0) = 'A' / 2. city = graph['B'].pop(0) = 'ICN' / 3. city = graph['ICN'].pop(0) = 'A'\n",
    "        while not city in graph.keys() or len(graph[city]) == 0: # 1. not 'A' in graph.keys() or len(graph['A']) == 0 = True  / 2. not 'B' in graph.keys() or len(graph['B']) == 0  = False / 3. not 'ICN' in graph.keys() or len(graph['ICN']) == 0 = False / 4. not 'A' in graph.keys() or len(graph['A']) == 0 = True\n",
    "            if len(graph[pri]) > 0:\n",
    "                graph[pri].append(city) # 1. graph['ICN'].append('A') / 4. graph['ICN'].append('A')\n",
    "                city = graph[pri].pop(0) # 1. city = graph['ICN'].pop(0) = 'B' / 4. city = graph['ICN'].pop(0) = 'A'  => **무한반복**\n",
    "            else:\n",
    "                tour.append(city)\n",
    "                break\n",
    "        else: # 2. city = 'B' / 3. city = 'ICN'\n",
    "            tour.append(city) # 2. tour = ['B'] / 3. tour = ['ICN']\n",
    "    answer.append(pri) # 1. answer = ['ICN']  / 2. answer = ['ICN', 'B']\n",
    "    print(pri, end=' ')"
   ]
  },
  {
   "cell_type": "code",
   "execution_count": 80,
   "id": "c51c3c6d",
   "metadata": {
    "ExecuteTime": {
     "end_time": "2023-01-26T01:50:00.115766Z",
     "start_time": "2023-01-26T01:50:00.100775Z"
    }
   },
   "outputs": [
    {
     "data": {
      "text/plain": [
       "['ICN', 'A', 'B', 'D']"
      ]
     },
     "execution_count": 80,
     "metadata": {},
     "output_type": "execute_result"
    }
   ],
   "source": [
    "answer"
   ]
  },
  {
   "cell_type": "code",
   "execution_count": 81,
   "id": "55104f06",
   "metadata": {
    "ExecuteTime": {
     "end_time": "2023-01-26T01:50:00.282853Z",
     "start_time": "2023-01-26T01:50:00.267877Z"
    }
   },
   "outputs": [
    {
     "data": {
      "text/plain": [
       "defaultdict(list, {'ICN': [], 'A': ['C'], 'C': ['A'], 'B': [], 'D': []})"
      ]
     },
     "execution_count": 81,
     "metadata": {},
     "output_type": "execute_result"
    }
   ],
   "source": [
    "graph"
   ]
  },
  {
   "cell_type": "markdown",
   "id": "40360c23",
   "metadata": {},
   "source": [
    "## Solution (Not my Idea)\n",
    "---\n",
    "dfs 기반, graph는 똑같이 작성하되, 아래와 같이 진행\n",
    "아이디어는 되게 비슷한 거 같은데, 맨 안쪽부터 쌓아 올린다는 점, 그 후에 거꾸로 반환하여, 전체를 탐색한다는게 좀 달랐다.\n",
    "새롭다.."
   ]
  },
  {
   "cell_type": "code",
   "execution_count": 55,
   "id": "e4589a37",
   "metadata": {
    "ExecuteTime": {
     "end_time": "2023-01-26T04:23:26.963478Z",
     "start_time": "2023-01-26T04:23:26.948485Z"
    }
   },
   "outputs": [],
   "source": [
    "answer = []\n",
    "def dfs(s, graph):\n",
    "    while graph[s]:\n",
    "        print(f\"graph[{s}] : \", graph[s])\n",
    "        dfs(graph[s].pop(0), graph)\n",
    "    \n",
    "    if not graph[s]:\n",
    "        print(\"s is \", s)\n",
    "        answer.append(s)\n",
    "        return"
   ]
  },
  {
   "cell_type": "code",
   "execution_count": 56,
   "id": "74c4cd7d",
   "metadata": {
    "ExecuteTime": {
     "end_time": "2023-01-26T04:23:27.821171Z",
     "start_time": "2023-01-26T04:23:27.812166Z"
    }
   },
   "outputs": [
    {
     "name": "stdout",
     "output_type": "stream",
     "text": [
      "graph[ICN] :  ['A']\n",
      "graph[A] :  ['B', 'C']\n",
      "graph[B] :  ['D']\n",
      "s is  D\n",
      "s is  B\n",
      "graph[A] :  ['C']\n",
      "graph[C] :  ['A']\n",
      "s is  A\n",
      "s is  C\n",
      "s is  A\n",
      "s is  ICN\n"
     ]
    }
   ],
   "source": [
    "dfs('ICN', graph)"
   ]
  },
  {
   "cell_type": "code",
   "execution_count": 25,
   "id": "f6769165",
   "metadata": {
    "ExecuteTime": {
     "end_time": "2023-01-26T02:04:51.534687Z",
     "start_time": "2023-01-26T02:04:51.523704Z"
    }
   },
   "outputs": [
    {
     "data": {
      "text/plain": [
       "['ICN', 'A', 'C', 'A', 'B', 'D']"
      ]
     },
     "execution_count": 25,
     "metadata": {},
     "output_type": "execute_result"
    }
   ],
   "source": [
    "answer[::-1]"
   ]
  },
  {
   "cell_type": "markdown",
   "id": "270fd351",
   "metadata": {
    "ExecuteTime": {
     "end_time": "2023-01-26T02:09:44.712658Z",
     "start_time": "2023-01-26T02:09:44.707660Z"
    }
   },
   "source": [
    "1. ICN -> A -> B -> D => D is empty => answer.append(D) return => B is empty => answer.append(B) return => A is not empty \n",
    "2. ICN -> A -> C -> A ->"
   ]
  },
  {
   "cell_type": "code",
   "execution_count": null,
   "id": "25f00e76",
   "metadata": {},
   "outputs": [],
   "source": []
  }
 ],
 "metadata": {
  "kernelspec": {
   "display_name": "Python 3 (ipykernel)",
   "language": "python",
   "name": "python3"
  },
  "language_info": {
   "codemirror_mode": {
    "name": "ipython",
    "version": 3
   },
   "file_extension": ".py",
   "mimetype": "text/x-python",
   "name": "python",
   "nbconvert_exporter": "python",
   "pygments_lexer": "ipython3",
   "version": "3.9.13"
  },
  "toc": {
   "base_numbering": 1,
   "nav_menu": {},
   "number_sections": true,
   "sideBar": true,
   "skip_h1_title": false,
   "title_cell": "Table of Contents",
   "title_sidebar": "Contents",
   "toc_cell": false,
   "toc_position": {
    "height": "calc(100% - 180px)",
    "left": "10px",
    "top": "150px",
    "width": "165px"
   },
   "toc_section_display": true,
   "toc_window_display": false
  },
  "varInspector": {
   "cols": {
    "lenName": 16,
    "lenType": 16,
    "lenVar": 40
   },
   "kernels_config": {
    "python": {
     "delete_cmd_postfix": "",
     "delete_cmd_prefix": "del ",
     "library": "var_list.py",
     "varRefreshCmd": "print(var_dic_list())"
    },
    "r": {
     "delete_cmd_postfix": ") ",
     "delete_cmd_prefix": "rm(",
     "library": "var_list.r",
     "varRefreshCmd": "cat(var_dic_list()) "
    }
   },
   "oldHeight": 804.844,
   "position": {
    "height": "826.844px",
    "left": "568px",
    "right": "20px",
    "top": "120px",
    "width": "334px"
   },
   "types_to_exclude": [
    "module",
    "function",
    "builtin_function_or_method",
    "instance",
    "_Feature"
   ],
   "varInspector_section_display": "block",
   "window_display": false
  }
 },
 "nbformat": 4,
 "nbformat_minor": 5
}
