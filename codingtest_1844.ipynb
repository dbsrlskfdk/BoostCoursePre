{
 "cells": [
  {
   "cell_type": "code",
   "execution_count": 1,
   "metadata": {
    "collapsed": true,
    "pycharm": {
     "name": "#%%\n"
    }
   },
   "outputs": [],
   "source": [
    "from collections import deque"
   ]
  },
  {
   "cell_type": "code",
   "execution_count": 2,
   "outputs": [],
   "source": [
    "def bfs(graph, node, visited):\n",
    "\tque = deque([node]) # 처음 호출 시 들어오는 node 파라미터(시작 지점)으로 Queue를 초기화\n",
    "\tvisited[node] = True # 해당 시작 node 방문처리\n",
    "\n",
    "\twhile que: # Queue가 비게 될 시, 모든 node를 순회 했다는 것이기에, while Queue\n",
    "\t\tv = que.popleft() # Queue 맨 앞부터 호출 => 노드와 연결된 다른 노드들이 순서대로 들어와 있을 것이기에\n",
    "\t\tprint(v, end=' ') # 프린트\n",
    "\t\tfor i in graph[v]: # pop을 한 노드와 연결된 다른 노드들을 확인\n",
    "\t\t\tif not visited[i]: # 만약 방문하지 않은 노드라면\n",
    "\t\t\t\tque.append(i) # Queue의 맨끝에 추가\n",
    "\t\t\t\tvisited[i] = True # 해당 노드는 방문처리 => 출력은 다시 위의 while 순회시에 진행할 것"
   ],
   "metadata": {
    "collapsed": false,
    "pycharm": {
     "name": "#%%\n"
    }
   }
  },
  {
   "cell_type": "code",
   "execution_count": 3,
   "outputs": [],
   "source": [
    "graph = [\n",
    "    [], # 빈 노드 => index를 n번 노드로 똑같이 활용하기 위해서\n",
    "    [2, 3], # 1번 node 연결\n",
    "    [1, 8], # 2번 node 연결\n",
    "    [1, 4, 5], # 3번 node 연결\n",
    "    [3, 5],\n",
    "    [3, 4],\n",
    "    [7, 8],\n",
    "    [6, 8],\n",
    "    [2, 6, 7] # 8번 node 연결\n",
    "]\n",
    "visited = [False] * len(graph)"
   ],
   "metadata": {
    "collapsed": false,
    "pycharm": {
     "name": "#%%\n"
    }
   }
  },
  {
   "cell_type": "code",
   "execution_count": 4,
   "outputs": [
    {
     "name": "stdout",
     "output_type": "stream",
     "text": [
      "1 2 3 8 4 5 6 7 "
     ]
    }
   ],
   "source": [
    "bfs(graph, 1, visited)"
   ],
   "metadata": {
    "collapsed": false,
    "pycharm": {
     "name": "#%%\n"
    }
   }
  },
  {
   "cell_type": "markdown",
   "source": [
    "# Programmers - 게임 맵 최단거리(1844)"
   ],
   "metadata": {
    "collapsed": false,
    "pycharm": {
     "name": "#%% md\n"
    }
   }
  },
  {
   "cell_type": "code",
   "execution_count": 87,
   "outputs": [],
   "source": [
    "maps = [[1, 0, 1, 1, 1], [1, 0, 1, 0, 1], [1, 0, 1, 1, 1], [1, 1, 1, 0, 1], [0, 0, 0, 0, 1]]\n",
    "\n",
    "visited = {}\n",
    "n = len(maps)\n",
    "m = len(maps[0])\n",
    "answer = 0\n",
    "for i in range(len(maps)):\n",
    "\tfor j in range(len(maps[0])):\n",
    "\t\tif maps[i][j] == 1:\n",
    "\t\t\tvisited[(i, j)] = 0"
   ],
   "metadata": {
    "collapsed": false,
    "pycharm": {
     "name": "#%%\n"
    }
   }
  },
  {
   "cell_type": "code",
   "execution_count": 88,
   "outputs": [
    {
     "data": {
      "text/plain": "{(0, 0): 0,\n (0, 2): 0,\n (0, 3): 0,\n (0, 4): 0,\n (1, 0): 0,\n (1, 2): 0,\n (1, 4): 0,\n (2, 0): 0,\n (2, 2): 0,\n (2, 3): 0,\n (2, 4): 0,\n (3, 0): 0,\n (3, 1): 0,\n (3, 2): 0,\n (3, 4): 0,\n (4, 4): 0}"
     },
     "execution_count": 88,
     "metadata": {},
     "output_type": "execute_result"
    }
   ],
   "source": [
    "visited"
   ],
   "metadata": {
    "collapsed": false,
    "pycharm": {
     "name": "#%%\n"
    }
   }
  },
  {
   "cell_type": "code",
   "execution_count": 89,
   "outputs": [],
   "source": [
    "def bfs(maps, node, n, m, visited):\n",
    "\tque = deque([node])\n",
    "\tvisited[node] = 1\n",
    "\n",
    "\twhile que:\n",
    "\t\ty, x = que.popleft()\n",
    "\t\t# print((y, x), end=' ')\n",
    "\t\t# (y, x-1 > 0) , (y-1 > 0, x) , (y, x+1 < m) , (y+1 < n, x)\n",
    "\t\tif x+1 < m and maps[y][x+1] == 1:\n",
    "\t\t\tif visited[(y, x+1)] == 0:\n",
    "\t\t\t\tque.append((y, x+1))\n",
    "\t\t\t\tvisited[(y, x+1)] = visited[(y, x)] + 1\n",
    "\t\tif y+1 < n and maps[y+1][x] == 1:\n",
    "\t\t\tif visited[(y+1, x)] == 0:\n",
    "\t\t\t\tque.append((y+1, x))\n",
    "\t\t\t\tvisited[(y+1, x)] = visited[(y, x)] + 1\n",
    "\t\tif x-1 >= 0 and maps[y][x-1] == 1: # 방문가능한 node는 0도 가능 => x-1 >= 0\n",
    "\t\t\tif visited[(y, x-1)] == 0:\n",
    "\t\t\t\tque.append((y, x-1))\n",
    "\t\t\t\tvisited[(y, x-1)] = visited[(y, x)] + 1\n",
    "\t\tif y-1 >= 0 and maps[y-1][x] == 1: # 방문가능한 node는 0도 가능 => y-1 >= 0\n",
    "\t\t\tif visited[(y-1, x)] == 0:\n",
    "\t\t\t\tque.append((y-1, x))\n",
    "\t\t\t\tvisited[(y-1, x)] = visited[(y, x)] + 1\n"
   ],
   "metadata": {
    "collapsed": false,
    "pycharm": {
     "name": "#%%\n"
    }
   }
  },
  {
   "cell_type": "code",
   "execution_count": 90,
   "outputs": [],
   "source": [
    "bfs(maps, (0, 0), len(maps), len(maps[0]), visited)"
   ],
   "metadata": {
    "collapsed": false,
    "pycharm": {
     "name": "#%%\n"
    }
   }
  },
  {
   "cell_type": "code",
   "execution_count": 91,
   "outputs": [],
   "source": [
    "if visited[(n-1, m-1)] == 0:\n",
    "\tanswer = -1\n",
    "else:\n",
    "\tanswer = visited[(n-1, m-1)]"
   ],
   "metadata": {
    "collapsed": false,
    "pycharm": {
     "name": "#%%\n"
    }
   }
  },
  {
   "cell_type": "code",
   "execution_count": 92,
   "outputs": [
    {
     "data": {
      "text/plain": "11"
     },
     "execution_count": 92,
     "metadata": {},
     "output_type": "execute_result"
    }
   ],
   "source": [
    "answer"
   ],
   "metadata": {
    "collapsed": false,
    "pycharm": {
     "name": "#%%\n"
    }
   }
  },
  {
   "cell_type": "code",
   "execution_count": null,
   "outputs": [],
   "source": [],
   "metadata": {
    "collapsed": false,
    "pycharm": {
     "name": "#%%\n"
    }
   }
  }
 ],
 "metadata": {
  "kernelspec": {
   "display_name": "Python 3",
   "language": "python",
   "name": "python3"
  },
  "language_info": {
   "codemirror_mode": {
    "name": "ipython",
    "version": 2
   },
   "file_extension": ".py",
   "mimetype": "text/x-python",
   "name": "python",
   "nbconvert_exporter": "python",
   "pygments_lexer": "ipython2",
   "version": "2.7.6"
  }
 },
 "nbformat": 4,
 "nbformat_minor": 0
}