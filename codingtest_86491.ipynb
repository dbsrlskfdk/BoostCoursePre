{
  "nbformat": 4,
  "nbformat_minor": 0,
  "metadata": {
    "colab": {
      "provenance": [],
      "include_colab_link": true
    },
    "kernelspec": {
      "name": "python3",
      "display_name": "Python 3"
    }
  },
  "cells": [
    {
      "cell_type": "markdown",
      "metadata": {
        "id": "view-in-github",
        "colab_type": "text"
      },
      "source": [
        "<a href=\"https://colab.research.google.com/github/dbsrlskfdk/BoostCoursePre/blob/master/codingtest_86491.ipynb\" target=\"_parent\"><img src=\"https://colab.research.google.com/assets/colab-badge.svg\" alt=\"Open In Colab\"/></a>"
      ]
    },
    {
      "cell_type": "code",
      "source": [
        "sizes = [[60, 50], [30, 70], [60, 30], [80, 40]]"
      ],
      "metadata": {
        "id": "qOF-r5usRzML"
      },
      "execution_count": 1,
      "outputs": []
    },
    {
      "cell_type": "code",
      "source": [
        "for item in sizes:\n",
        "    if item[0] >= item[1]:\n",
        "        tmp = item[1]\n",
        "        item[1] = item[0]\n",
        "        item[0] = tmp"
      ],
      "metadata": {
        "id": "NnCL1WkJYVhs"
      },
      "execution_count": 2,
      "outputs": []
    },
    {
      "cell_type": "code",
      "source": [
        "w = []\n",
        "h = []\n",
        "for item in sizes:\n",
        "    w.append(item[0])\n",
        "    h.append(item[1])"
      ],
      "metadata": {
        "id": "iswxnuQ6SJCS"
      },
      "execution_count": 3,
      "outputs": []
    },
    {
      "cell_type": "code",
      "source": [
        "answer = max(w) * max(h)"
      ],
      "metadata": {
        "id": "v1ga_Au6aICj"
      },
      "execution_count": 4,
      "outputs": []
    },
    {
      "cell_type": "code",
      "source": [
        "print(answer)"
      ],
      "metadata": {
        "colab": {
          "base_uri": "https://localhost:8080/"
        },
        "id": "raaD3JjqXJTb",
        "outputId": "5584c9aa-0716-4cf8-d7cc-9e0d9f52af3e"
      },
      "execution_count": 5,
      "outputs": [
        {
          "output_type": "stream",
          "name": "stdout",
          "text": [
            "4000\n"
          ]
        }
      ]
    },
    {
      "cell_type": "code",
      "source": [],
      "metadata": {
        "id": "NIg0fkIjaK80"
      },
      "execution_count": null,
      "outputs": []
    }
  ]
}