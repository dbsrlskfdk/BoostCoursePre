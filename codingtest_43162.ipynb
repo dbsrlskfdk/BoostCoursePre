{
  "nbformat": 4,
  "nbformat_minor": 0,
  "metadata": {
    "colab": {
      "provenance": [],
      "authorship_tag": "ABX9TyNXAF8ykkD7Fdb+3KERIS7D"
    },
    "kernelspec": {
      "name": "python3",
      "display_name": "Python 3"
    },
    "language_info": {
      "name": "python"
    },
    "gpuClass": "standard"
  },
  "cells": [
    {
      "cell_type": "code",
      "source": [
        "n = 3\n",
        "computers = [[1, 1, 0], [1, 1, 0], [0, 0, 1]]\n",
        "visited = [False for _ in range(n)] "
      ],
      "metadata": {
        "id": "MBI63GMkowVm"
      },
      "execution_count": 101,
      "outputs": []
    },
    {
      "cell_type": "code",
      "source": [
        "def dfs(i, graph, visited):\n",
        "    visited[i] = True\n",
        "    \n",
        "    for t, neighbor in enumerate(graph[i]):\n",
        "        if neighbor > 0 and i != t and visited[t] == False:\n",
        "            dfs(t, graph, visited)\n",
        "    return visited"
      ],
      "metadata": {
        "id": "PxuBYj7WdQiH"
      },
      "execution_count": 102,
      "outputs": []
    },
    {
      "cell_type": "code",
      "source": [
        "answer = 1\n",
        "start = 0\n",
        "while True:\n",
        "    visited = dfs(start, computers, visited)\n",
        "    if False in visited:\n",
        "        start = visited.index(False)\n",
        "        answer += 1\n",
        "    else:\n",
        "        break"
      ],
      "metadata": {
        "id": "oIlXP8Ol0EXN"
      },
      "execution_count": 103,
      "outputs": []
    },
    {
      "cell_type": "code",
      "source": [
        "answer"
      ],
      "metadata": {
        "colab": {
          "base_uri": "https://localhost:8080/"
        },
        "id": "uiABXQTT0Fv5",
        "outputId": "7cf2b0c4-3f68-4886-bbbb-1643a7317b8f"
      },
      "execution_count": 104,
      "outputs": [
        {
          "output_type": "execute_result",
          "data": {
            "text/plain": [
              "2"
            ]
          },
          "metadata": {},
          "execution_count": 104
        }
      ]
    },
    {
      "cell_type": "code",
      "source": [],
      "metadata": {
        "id": "50JLLI3f9lkx"
      },
      "execution_count": null,
      "outputs": []
    }
  ]
}