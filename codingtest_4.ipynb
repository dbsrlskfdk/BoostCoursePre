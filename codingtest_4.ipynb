{
 "cells": [
  {
   "cell_type": "code",
   "execution_count": 1,
   "outputs": [],
   "source": [
    "n = 10\n",
    "k = 183"
   ],
   "metadata": {
    "collapsed": false,
    "pycharm": {
     "name": "#%%\n"
    }
   }
  },
  {
   "cell_type": "code",
   "execution_count": 2,
   "outputs": [],
   "source": [
    "fact = []\n",
    "tmp = 1\n",
    "ans = []\n",
    "a = [i for i in range(1, n+1)]\n",
    "for i in range(1, n):\n",
    "\ttmp *= i\n",
    "\tfact.append(tmp)"
   ],
   "metadata": {
    "collapsed": false,
    "pycharm": {
     "name": "#%%\n"
    }
   }
  },
  {
   "cell_type": "code",
   "execution_count": 3,
   "outputs": [],
   "source": [
    "fact = fact[::-1]"
   ],
   "metadata": {
    "collapsed": false,
    "pycharm": {
     "name": "#%%\n"
    }
   }
  },
  {
   "cell_type": "code",
   "execution_count": 4,
   "outputs": [],
   "source": [
    "for denom in fact:\n",
    "\tq = (k-1) // denom\n",
    "\tidx = q % len(a)\n",
    "\n",
    "\tans.append(a.pop(idx))\n",
    "ans.extend(a)"
   ],
   "metadata": {
    "collapsed": false,
    "pycharm": {
     "name": "#%%\n"
    }
   }
  },
  {
   "cell_type": "code",
   "execution_count": 5,
   "outputs": [
    {
     "name": "stdout",
     "output_type": "stream",
     "text": [
      "[1, 2, 3, 4, 6, 8, 9, 7, 5, 10]\n"
     ]
    }
   ],
   "source": [
    "print(ans)"
   ],
   "metadata": {
    "collapsed": false,
    "pycharm": {
     "name": "#%%\n"
    }
   }
  },
  {
   "cell_type": "markdown",
   "source": [
    "4! = 4 * 3 * 2 * 1\n",
    "\n",
    "(1, 2, 3, 4) - 0\n",
    "(1, 2, 4, 3) - 1\n",
    "(1, 3, 2, 4)\n",
    "(1, 3, 4, 2)\n",
    "(1, 4, 2, 3)\n",
    "(1, 4, 3, 2) - 5\n",
    "\n",
    "(2, 1, 3, 4) - 6\n",
    "(2, 1, 4, 3)\n",
    "(2, 3, 1, 4)\n",
    "(2, 3, 4, 1)\n",
    "(2, 4, 1, 3)\n",
    "(2, 4, 3, 1) - 11\n",
    "\n",
    "(3, 1, 2, 4)\n",
    "(3, 1, 4, 2)\n",
    "(3, 2, 1, 4)\n",
    "(3, 2, 4, 1)\n",
    "(3, 4, 1, 2)\n",
    "(3, 4, 2, 1)\n",
    "\n",
    "(4, 1, 2, 3)\n",
    "(4, 1, 3, 2)\n",
    "(4, 2, 1, 3)\n",
    "(4, 2, 3, 1)\n",
    "(4, 3, 1, 2)\n",
    "(4, 3, 2, 1)"
   ],
   "metadata": {
    "collapsed": false,
    "pycharm": {
     "name": "#%% md\n"
    }
   }
  }
 ],
 "metadata": {
  "kernelspec": {
   "display_name": "Python 3",
   "language": "python",
   "name": "python3"
  },
  "language_info": {
   "codemirror_mode": {
    "name": "ipython",
    "version": 2
   },
   "file_extension": ".py",
   "mimetype": "text/x-python",
   "name": "python",
   "nbconvert_exporter": "python",
   "pygments_lexer": "ipython2",
   "version": "2.7.6"
  }
 },
 "nbformat": 4,
 "nbformat_minor": 0
}