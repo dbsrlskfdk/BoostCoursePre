{
  "nbformat": 4,
  "nbformat_minor": 0,
  "metadata": {
    "colab": {
      "provenance": []
    },
    "kernelspec": {
      "name": "python3",
      "display_name": "Python 3"
    }
  },
  "cells": [
    {
      "cell_type": "markdown",
      "source": [
        "if) N = 2 \\\n",
        "'A', 'E', 'I', 'O', 'U' \\\n",
        "N = 1 \\\n",
        "'A' , 'E', 'I', 'O', 'U' = 5\\\n",
        "N = 2 \\\n",
        "'AA', 'AE', 'AI', 'AO', 'AU' = 5 \\\n",
        "'EA', 'EE', 'EI', 'EO', 'EU' = 5 \\\n",
        "... = 5 \\\n",
        "... = 5  \n",
        "'UA', 'UE', 'UI', 'UO', 'UU' = 5 \\"
      ],
      "metadata": {
        "id": "9B9qtbMP2lBW"
      }
    },
    {
      "cell_type": "code",
      "source": [
        "word = 'I'\n",
        "total_dict = []\n",
        "char_list = ['A', 'E', 'I', 'O', 'U']"
      ],
      "metadata": {
        "id": "gUU32pEq17QD"
      },
      "execution_count": 1,
      "outputs": []
    },
    {
      "cell_type": "code",
      "source": [
        "def dfs(n, prev, char_list, total_dict):\n",
        "    tmp = prev\n",
        "    if n < 5 and len(prev) < 5:\n",
        "        for c in char_list:\n",
        "            total_dict.append(tmp+c)\n",
        "            dfs(n+1, tmp+c, char_list, total_dict)\n",
        "    "
      ],
      "metadata": {
        "id": "YUTCnJ9n3uMo"
      },
      "execution_count": 2,
      "outputs": []
    },
    {
      "cell_type": "code",
      "source": [
        "dfs(0, '', char_list, total_dict)"
      ],
      "metadata": {
        "id": "LsWF_KSnWye7"
      },
      "execution_count": 3,
      "outputs": []
    },
    {
      "cell_type": "code",
      "source": [
        "answer = total_dict.index(word) + 1"
      ],
      "metadata": {
        "id": "VplqXShnNQjD"
      },
      "execution_count": 4,
      "outputs": []
    },
    {
      "cell_type": "code",
      "source": [
        "print(answer)"
      ],
      "metadata": {
        "colab": {
          "base_uri": "https://localhost:8080/"
        },
        "id": "jDlib44ZfD5g",
        "outputId": "ebab30a1-1289-4486-af76-fc37d6744379"
      },
      "execution_count": 5,
      "outputs": [
        {
          "output_type": "stream",
          "name": "stdout",
          "text": [
            "1563\n"
          ]
        }
      ]
    },
    {
      "cell_type": "code",
      "source": [],
      "metadata": {
        "id": "OfJj1-60fzoq"
      },
      "execution_count": null,
      "outputs": []
    }
  ]
}