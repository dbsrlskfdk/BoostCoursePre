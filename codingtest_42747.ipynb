{
  "nbformat": 4,
  "nbformat_minor": 0,
  "metadata": {
    "colab": {
      "provenance": []
    },
    "kernelspec": {
      "name": "python3",
      "display_name": "Python 3"
    }
  },
  "cells": [
    {
      "cell_type": "code",
      "source": [
        "citations = [1, 4]"
      ],
      "metadata": {
        "id": "cj4O0MKNpgTb"
      },
      "execution_count": 22,
      "outputs": []
    },
    {
      "cell_type": "code",
      "source": [
        "n = len(citations)"
      ],
      "metadata": {
        "id": "9OErC3YZpinT"
      },
      "execution_count": 23,
      "outputs": []
    },
    {
      "cell_type": "code",
      "source": [
        "answer = 0\n",
        "for h in range(n, -1, -1):\n",
        "    upper = 0\n",
        "    for i in citations:\n",
        "        if i >= h:\n",
        "            upper += 1\n",
        "    if h <= upper:\n",
        "        answer = max(h, answer)"
      ],
      "metadata": {
        "id": "yk024fwRpshD"
      },
      "execution_count": 28,
      "outputs": []
    },
    {
      "cell_type": "code",
      "source": [
        "answer"
      ],
      "metadata": {
        "colab": {
          "base_uri": "https://localhost:8080/"
        },
        "id": "s2_W19XFp06q",
        "outputId": "f827c806-05fb-4f40-cb69-ad858ac9b2d0"
      },
      "execution_count": 29,
      "outputs": [
        {
          "output_type": "execute_result",
          "data": {
            "text/plain": [
              "1"
            ]
          },
          "metadata": {},
          "execution_count": 29
        }
      ]
    },
    {
      "cell_type": "code",
      "source": [],
      "metadata": {
        "id": "657T2r-Fq3yC"
      },
      "execution_count": null,
      "outputs": []
    }
  ]
}