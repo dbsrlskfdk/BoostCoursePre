{
 "cells": [
  {
   "cell_type": "code",
   "execution_count": 4,
   "outputs": [],
   "source": [
    "from collections import defaultdict, deque\n",
    "import copy"
   ],
   "metadata": {
    "collapsed": false,
    "pycharm": {
     "name": "#%%\n"
    }
   }
  },
  {
   "cell_type": "code",
   "execution_count": 26,
   "metadata": {
    "collapsed": true,
    "pycharm": {
     "name": "#%%\n"
    }
   },
   "outputs": [],
   "source": [
    "n = 9\n",
    "tree_origin = defaultdict(list)\n",
    "# a = [[1,3],[2,3],[3,4],[4,5],[4,6],[4,7],[7,8],[7,9]]\n",
    "a = [[1,2],[2,3],[3,4]]\n",
    "# a = [[1,2],[2,7],[3, 7], [3,4],[4,5],[6,7]]\n",
    "for m, n in a:\n",
    "\ttree_origin[m].append(n)\n",
    "\ttree_origin[n].append(m)"
   ]
  },
  {
   "cell_type": "code",
   "execution_count": 22,
   "outputs": [
    {
     "data": {
      "text/plain": "defaultdict(list,\n            {1: [3],\n             3: [1, 2, 4],\n             2: [3],\n             4: [3, 5, 6, 7],\n             5: [4],\n             6: [4],\n             7: [4, 8, 9],\n             8: [7],\n             9: [7]})"
     },
     "execution_count": 22,
     "metadata": {},
     "output_type": "execute_result"
    }
   ],
   "source": [
    "tree_origin"
   ],
   "metadata": {
    "collapsed": false,
    "pycharm": {
     "name": "#%%\n"
    }
   }
  },
  {
   "cell_type": "code",
   "execution_count": 27,
   "outputs": [],
   "source": [
    "\n",
    "def bfs(graph, start, n):\n",
    "\tvisited = [False] * (n+1)\n",
    "\tcnt = 0\n",
    "\tqueue = deque([start])\n",
    "\tvisited[start] = True\n",
    "\n",
    "\twhile queue:\n",
    "\t\tvalue = queue.popleft()\n",
    "\t\tcnt += 1\n",
    "\t\tfor i in graph[value]:\n",
    "\t\t\tif not visited[i]:\n",
    "\t\t\t\tqueue.append(i)\n",
    "\t\t\t\tvisited[i] = True\n",
    "\treturn cnt"
   ],
   "metadata": {
    "collapsed": false,
    "pycharm": {
     "name": "#%%\n"
    }
   }
  },
  {
   "cell_type": "code",
   "execution_count": 28,
   "outputs": [],
   "source": [
    "cnt = 10000\n",
    "for p, q in a:\n",
    "\ttree = copy.deepcopy(tree_origin)\n",
    "\tdel(tree[p][tree[p].index(q)])\n",
    "\tdel(tree[q][tree[q].index(p)])\n",
    "\tcnt = min(abs(bfs(tree, p , n) - bfs(tree, q, n)), cnt)\n"
   ],
   "metadata": {
    "collapsed": false,
    "pycharm": {
     "name": "#%%\n"
    }
   }
  },
  {
   "cell_type": "code",
   "execution_count": 29,
   "outputs": [
    {
     "data": {
      "text/plain": "0"
     },
     "execution_count": 29,
     "metadata": {},
     "output_type": "execute_result"
    }
   ],
   "source": [
    "cnt"
   ],
   "metadata": {
    "collapsed": false,
    "pycharm": {
     "name": "#%%\n"
    }
   }
  },
  {
   "cell_type": "code",
   "execution_count": null,
   "outputs": [],
   "source": [],
   "metadata": {
    "collapsed": false,
    "pycharm": {
     "name": "#%%\n"
    }
   }
  }
 ],
 "metadata": {
  "kernelspec": {
   "display_name": "Python 3",
   "language": "python",
   "name": "python3"
  },
  "language_info": {
   "codemirror_mode": {
    "name": "ipython",
    "version": 2
   },
   "file_extension": ".py",
   "mimetype": "text/x-python",
   "name": "python",
   "nbconvert_exporter": "python",
   "pygments_lexer": "ipython2",
   "version": "2.7.6"
  }
 },
 "nbformat": 4,
 "nbformat_minor": 0
}