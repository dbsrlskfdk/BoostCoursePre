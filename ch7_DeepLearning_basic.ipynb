{
 "cells": [
  {
   "cell_type": "code",
   "execution_count": 1,
   "metadata": {
    "collapsed": true,
    "pycharm": {
     "name": "#%%\n"
    }
   },
   "outputs": [],
   "source": [
    "import numpy as np"
   ]
  },
  {
   "cell_type": "markdown",
   "source": [
    "## Softmax"
   ],
   "metadata": {
    "collapsed": false,
    "pycharm": {
     "name": "#%% md\n"
    }
   }
  },
  {
   "cell_type": "code",
   "execution_count": 2,
   "outputs": [],
   "source": [
    "# Softmax\n",
    "def softmax(vec):\n",
    "\tdenumerator = np.exp(vec - np.max(vec, axis=-1, keepdims=True))\n",
    "\tnumerator = np.sum(denumerator, axis=-1, keepdims=True)\n",
    "\tval = denumerator / numerator\n",
    "\treturn val"
   ],
   "metadata": {
    "collapsed": false,
    "pycharm": {
     "name": "#%%\n"
    }
   }
  },
  {
   "cell_type": "code",
   "execution_count": 4,
   "outputs": [
    {
     "data": {
      "text/plain": "array([[2.44728471e-01, 6.65240956e-01, 9.00305732e-02],\n       [9.00305732e-02, 2.44728471e-01, 6.65240956e-01],\n       [2.06106005e-09, 4.53978686e-05, 9.99954600e-01]])"
     },
     "execution_count": 4,
     "metadata": {},
     "output_type": "execute_result"
    }
   ],
   "source": [
    "vec = np.array([[1, 2, 0],\n",
    "\t\t\t\t[-1, 0, 1],\n",
    "\t\t\t\t[-10, 0, 10]])\n",
    "softmax(vec)"
   ],
   "metadata": {
    "collapsed": false,
    "pycharm": {
     "name": "#%%\n"
    }
   }
  },
  {
   "cell_type": "markdown",
   "source": [
    "## one-hot"
   ],
   "metadata": {
    "collapsed": false,
    "pycharm": {
     "name": "#%% md\n"
    }
   }
  },
  {
   "cell_type": "code",
   "execution_count": 5,
   "outputs": [],
   "source": [
    "# One-Hot\n",
    "def one_hot(val, dim):\n",
    "\treturn [np.eye(dim)[_] for _ in val]\n",
    "\n",
    "def one_hot_encoding(vec):\n",
    "\tvec_dim = vec.shape[1]\n",
    "\tvec_argmax = np.argmax(vec, axis=-1)\n",
    "\treturn one_hot(vec_argmax, vec_dim)"
   ],
   "metadata": {
    "collapsed": false,
    "pycharm": {
     "name": "#%%\n"
    }
   }
  },
  {
   "cell_type": "code",
   "execution_count": 6,
   "outputs": [
    {
     "name": "stdout",
     "output_type": "stream",
     "text": [
      "[array([0., 1., 0.]), array([0., 0., 1.]), array([0., 0., 1.])]\n",
      "[array([0., 1., 0.]), array([0., 0., 1.]), array([0., 0., 1.])]\n"
     ]
    }
   ],
   "source": [
    "vec = np.array([[1, 2, 0],\n",
    "\t\t\t\t[-1, 0, 1],\n",
    "\t\t\t\t[-10, 0, 10]])\n",
    "print(one_hot_encoding(vec))\n",
    "print(one_hot_encoding(softmax(vec))) # 굳이 Softmax를 씌워서 One-hot을 하지 않아도 같은 결과가 나오기에, 추론할 때는 필요 없다"
   ],
   "metadata": {
    "collapsed": false,
    "pycharm": {
     "name": "#%%\n"
    }
   }
  },
  {
   "cell_type": "code",
   "execution_count": null,
   "outputs": [],
   "source": [],
   "metadata": {
    "collapsed": false,
    "pycharm": {
     "name": "#%%\n"
    }
   }
  }
 ],
 "metadata": {
  "kernelspec": {
   "display_name": "Python 3",
   "language": "python",
   "name": "python3"
  },
  "language_info": {
   "codemirror_mode": {
    "name": "ipython",
    "version": 2
   },
   "file_extension": ".py",
   "mimetype": "text/x-python",
   "name": "python",
   "nbconvert_exporter": "python",
   "pygments_lexer": "ipython2",
   "version": "2.7.6"
  }
 },
 "nbformat": 4,
 "nbformat_minor": 0
}