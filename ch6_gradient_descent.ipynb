{
 "cells": [
  {
   "cell_type": "code",
   "execution_count": 6,
   "metadata": {
    "collapsed": true,
    "pycharm": {
     "name": "#%%\n"
    }
   },
   "outputs": [],
   "source": [
    "import sympy as sym\n",
    "from sympy.abc import x, y\n",
    "import numpy as np"
   ]
  },
  {
   "cell_type": "code",
   "execution_count": 2,
   "outputs": [],
   "source": [
    "def func(val):\n",
    "\tfun = sym.poly(x**2 + 2*x + 3)\n",
    "\treturn fun.subs(x, val), fun"
   ],
   "metadata": {
    "collapsed": false,
    "pycharm": {
     "name": "#%%\n"
    }
   }
  },
  {
   "cell_type": "code",
   "execution_count": 3,
   "outputs": [],
   "source": [
    "def func_gradient(fun, val):\n",
    "\t_, function = fun(val)\n",
    "\tdiff = sym.diff(function, x)\n",
    "\treturn diff.subs(x, val), diff"
   ],
   "metadata": {
    "collapsed": false,
    "pycharm": {
     "name": "#%%\n"
    }
   }
  },
  {
   "cell_type": "code",
   "execution_count": 4,
   "outputs": [],
   "source": [
    "def gradient_descent(fun, init_point, lr_rate=1e-2, epsilon=1e-5):\n",
    "\tcnt = 0\n",
    "\tval = init_point\n",
    "\tdiff, _ = func_gradient(fun, init_point)\n",
    "\twhile np.abs(diff) > epsilon:\n",
    "\t\tval = val - lr_rate*diff\n",
    "\t\tdiff, _  = func_gradient(fun, val)\n",
    "\t\tcnt += 1\n",
    "\n",
    "\tprint(f\"함수 : {fun(val)[1]}, 연산횟수: {cnt}, 최소점: ({val}, {fun(val)[0]})\")"
   ],
   "metadata": {
    "collapsed": false,
    "pycharm": {
     "name": "#%%\n"
    }
   }
  },
  {
   "cell_type": "code",
   "execution_count": 5,
   "outputs": [
    {
     "name": "stdout",
     "output_type": "stream",
     "text": [
      "함수 : Poly(x**2 + 2*x + 3, x, domain='ZZ'), 연산횟수: 647, 최소점: (-0.999995024360193, 2.00000000002476)\n"
     ]
    }
   ],
   "source": [
    "gradient_descent(fun=func, init_point=np.random.uniform(-2, 2))"
   ],
   "metadata": {
    "collapsed": false,
    "pycharm": {
     "name": "#%%\n"
    }
   }
  },
  {
   "cell_type": "code",
   "execution_count": 7,
   "outputs": [
    {
     "name": "stderr",
     "output_type": "stream",
     "text": [
      "C:\\Users\\Yungi\\AppData\\Local\\Temp\\ipykernel_47488\\1617311515.py:1: SymPyDeprecationWarning: \n",
      "\n",
      "Mixing Poly with non-polynomial expressions in binary\n",
      "operations is deprecated. Either explicitly convert\n",
      "the non-Poly operand to a Poly with as_poly() or\n",
      "convert the Poly to an Expr with as_expr().\n",
      "\n",
      "See https://docs.sympy.org/latest/explanation/active-deprecations.html#deprecated-poly-nonpoly-binary-operations\n",
      "for details.\n",
      "\n",
      "This has been deprecated since SymPy version 1.6. It\n",
      "will be removed in a future version of SymPy.\n",
      "\n",
      "  sym.diff(sym.poly(x**2 + 2*x*y + 3) + sym.cos(x + 2*y), x)\n"
     ]
    },
    {
     "data": {
      "text/plain": "2*x + 2*y - sin(x + 2*y)",
      "text/latex": "$\\displaystyle 2 x + 2 y - \\sin{\\left(x + 2 y \\right)}$"
     },
     "execution_count": 7,
     "metadata": {},
     "output_type": "execute_result"
    }
   ],
   "source": [
    "sym.diff(sym.poly(x**2 + 2*x*y + 3) + sym.cos(x + 2*y), x)"
   ],
   "metadata": {
    "collapsed": false,
    "pycharm": {
     "name": "#%%\n"
    }
   }
  },
  {
   "cell_type": "code",
   "execution_count": 8,
   "outputs": [],
   "source": [
    "# Multivariate Gradient Descent\n",
    "def eval_(fun, val):\n",
    "\tval_x, val_y = val\n",
    "\tfun_eval = fun.subs(x, val_x).subs(y, val_y)\n",
    "\treturn fun_eval\n",
    "\n",
    "def func_multi(val):\n",
    "\tx_, y_ = val\n",
    "\tfunc = sym.poly(x**2 + 2*y**2)\n",
    "\treturn eval_(func, [x_, y_]), func\n",
    "\n",
    "def func_gradient(fun, val):\n",
    "\tx_, y_ = val\n",
    "\t_, function = fun(val)\n",
    "\tdiff_x = sym.diff(function, x)\n",
    "\tdiff_y = sym.diff(function, y)\n",
    "\tgrad_vec = np.array([eval_(diff_x, [x_, y_]), eval_(diff_y, [x_, y_])], dtype=float)\n",
    "\treturn grad_vec, [diff_x, diff_y]\n",
    "\n",
    "def gradient_descent(fun, init_point, lr_rate=1e-2, epsilon=1e-5):\n",
    "\tcnt = 0\n",
    "\tval = init_point\n",
    "\tdiff, _ = func_gradient(fun, val)\n",
    "\twhile np.linalg.norm(diff) > epsilon:\n",
    "\t\tval = val - lr_rate*diff\n",
    "\t\tdiff, _ = func_gradient(fun ,val)\n",
    "\t\tcnt += 1\n",
    "\n",
    "\tprint(f\"함수 : {fun(val)[1]}, 연산횟수: {cnt}, 최소점: ({val}, {fun(val)[0]})\")\n",
    "\n",
    "pt = [np.random.uniform(-2, 2), np.random.uniform(-2, 2)]"
   ],
   "metadata": {
    "collapsed": false,
    "pycharm": {
     "name": "#%%\n"
    }
   }
  },
  {
   "cell_type": "code",
   "execution_count": 9,
   "outputs": [
    {
     "name": "stdout",
     "output_type": "stream",
     "text": [
      "함수 : Poly(x**2 + 2*y**2, x, y, domain='ZZ'), 연산횟수: 586, 최소점: ([-4.91623587e-06 -2.93920416e-11], 2.41693751655545E-11)\n"
     ]
    }
   ],
   "source": [
    "gradient_descent(fun=func_multi, init_point=pt)"
   ],
   "metadata": {
    "collapsed": false,
    "pycharm": {
     "name": "#%%\n"
    }
   }
  },
  {
   "cell_type": "code",
   "execution_count": null,
   "outputs": [],
   "source": [],
   "metadata": {
    "collapsed": false,
    "pycharm": {
     "name": "#%%\n"
    }
   }
  }
 ],
 "metadata": {
  "kernelspec": {
   "display_name": "Python 3",
   "language": "python",
   "name": "python3"
  },
  "language_info": {
   "codemirror_mode": {
    "name": "ipython",
    "version": 2
   },
   "file_extension": ".py",
   "mimetype": "text/x-python",
   "name": "python",
   "nbconvert_exporter": "python",
   "pygments_lexer": "ipython2",
   "version": "2.7.6"
  }
 },
 "nbformat": 4,
 "nbformat_minor": 0
}