{
 "nbformat": 4,
 "nbformat_minor": 0,
 "metadata": {
  "colab": {
   "provenance": []
  },
  "kernelspec": {
   "name": "python3",
   "display_name": "Python 3"
  }
 },
 "cells": [
  {
   "cell_type": "code",
   "source": [
    "answers = [1,2,3,4,5]"
   ],
   "metadata": {
    "id": "9plfHZqPbxxP",
    "pycharm": {
     "name": "#%%\n"
    }
   },
   "execution_count": 1,
   "outputs": []
  },
  {
   "cell_type": "code",
   "source": [
    "one_score = 0\n",
    "two_score = 0\n",
    "thr_score = 0"
   ],
   "metadata": {
    "id": "UBktpgJSb1ar",
    "pycharm": {
     "name": "#%%\n"
    }
   },
   "execution_count": 2,
   "outputs": []
  },
  {
   "cell_type": "code",
   "source": [
    "one_answer = [1, 2, 3, 4, 5]\n",
    "two_answer = [2, 1, 2, 3, 2, 4, 2, 5]\n",
    "thr_answer = [3, 3, 1, 1, 2, 2, 4, 4, 5, 5]\n",
    "\n",
    "len_one = len(one_answer)\n",
    "len_two = len(two_answer)\n",
    "len_thr = len(thr_answer)"
   ],
   "metadata": {
    "id": "t1ZxGRH6dRSa",
    "pycharm": {
     "name": "#%%\n"
    }
   },
   "execution_count": 3,
   "outputs": []
  },
  {
   "cell_type": "code",
   "source": [
    "for i, k in enumerate(answers):\n",
    "    if one_answer[i % len_one] == k:\n",
    "        one_score += 1\n",
    "    if two_answer[i % len_two] == k:\n",
    "        two_score += 1\n",
    "    if thr_answer[i % len_thr] == k:\n",
    "        thr_score += 1"
   ],
   "metadata": {
    "id": "-SabqV58b8rb",
    "pycharm": {
     "name": "#%%\n"
    }
   },
   "execution_count": 4,
   "outputs": []
  },
  {
   "cell_type": "code",
   "source": [
    "score = {1: one_score, 2:two_score, 3:thr_score}"
   ],
   "metadata": {
    "id": "ZsBsDHXEeDyc",
    "pycharm": {
     "name": "#%%\n"
    }
   },
   "execution_count": 6,
   "outputs": []
  },
  {
   "cell_type": "code",
   "source": [
    "score = sorted(score.items(), key=lambda x : x[1], reverse=True)"
   ],
   "metadata": {
    "id": "GHS9DF4teHcr",
    "pycharm": {
     "name": "#%%\n"
    }
   },
   "execution_count": 25,
   "outputs": []
  },
  {
   "cell_type": "code",
   "source": [
    "max_value = score[0][1]"
   ],
   "metadata": {
    "id": "lhJlUm_OeZLz",
    "pycharm": {
     "name": "#%%\n"
    }
   },
   "execution_count": 30,
   "outputs": []
  },
  {
   "cell_type": "code",
   "source": [
    "answer = []\n",
    "for i in score:\n",
    "    if i[1] == max_value:\n",
    "        answer.append(i[0])"
   ],
   "metadata": {
    "id": "OscE45sRgZEO",
    "pycharm": {
     "name": "#%%\n"
    }
   },
   "execution_count": 31,
   "outputs": []
  },
  {
   "cell_type": "code",
   "source": [
    "answer.sort()"
   ],
   "metadata": {
    "id": "Q2dvC0o5gedj",
    "pycharm": {
     "name": "#%%\n"
    }
   },
   "execution_count": 33,
   "outputs": []
  },
  {
   "cell_type": "code",
   "source": [],
   "metadata": {
    "id": "l_KGV1nIhPcr",
    "pycharm": {
     "name": "#%%\n"
    }
   },
   "execution_count": null,
   "outputs": []
  }
 ]
}