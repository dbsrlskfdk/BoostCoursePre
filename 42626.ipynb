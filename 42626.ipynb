{
  "nbformat": 4,
  "nbformat_minor": 0,
  "metadata": {
    "colab": {
      "provenance": []
    },
    "kernelspec": {
      "name": "python3",
      "display_name": "Python 3"
    }
  },
  "cells": [
    {
      "cell_type": "code",
      "source": [
        "import heapq"
      ],
      "metadata": {
        "id": "d-T0M88YV1Xk"
      },
      "execution_count": 5,
      "outputs": []
    },
    {
      "cell_type": "code",
      "source": [
        "scoville = [1, 2, 3]\n",
        "K = 11"
      ],
      "metadata": {
        "id": "_GyhTVv8VRR9"
      },
      "execution_count": 26,
      "outputs": []
    },
    {
      "cell_type": "code",
      "source": [
        "heapq.heapify(scoville)"
      ],
      "metadata": {
        "id": "Ba2CyeFPVV7k"
      },
      "execution_count": 27,
      "outputs": []
    },
    {
      "cell_type": "code",
      "source": [
        "cnt = 0\n",
        "while scoville[0] < K:\n",
        "  new = heapq.heappop(scoville) + (2*heapq.heappop(scoville))\n",
        "  heapq.heappush(scoville, new)\n",
        "  cnt += 1\n",
        "  if len(scoville) <= 1 and new < K:\n",
        "    cnt = -1\n",
        "    break"
      ],
      "metadata": {
        "id": "BLUMf6BUV7xE"
      },
      "execution_count": 28,
      "outputs": []
    },
    {
      "cell_type": "code",
      "source": [
        "cnt"
      ],
      "metadata": {
        "colab": {
          "base_uri": "https://localhost:8080/"
        },
        "id": "oSDkixz7V-Fc",
        "outputId": "6f839444-5999-47f6-fdd7-c6eb5c6bd213"
      },
      "execution_count": 29,
      "outputs": [
        {
          "output_type": "execute_result",
          "data": {
            "text/plain": [
              "-1"
            ]
          },
          "metadata": {},
          "execution_count": 29
        }
      ]
    },
    {
      "cell_type": "code",
      "source": [
        "new"
      ],
      "metadata": {
        "colab": {
          "base_uri": "https://localhost:8080/"
        },
        "id": "2M6vwZIlWYHT",
        "outputId": "296b6e9e-91a2-43f2-c8dc-ad8eaf9d1458"
      },
      "execution_count": 21,
      "outputs": [
        {
          "output_type": "execute_result",
          "data": {
            "text/plain": [
              "13"
            ]
          },
          "metadata": {},
          "execution_count": 21
        }
      ]
    },
    {
      "cell_type": "code",
      "source": [],
      "metadata": {
        "id": "Jgj2EiSwZgKT"
      },
      "execution_count": null,
      "outputs": []
    }
  ]
}