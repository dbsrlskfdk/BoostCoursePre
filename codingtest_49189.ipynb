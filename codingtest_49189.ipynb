{
 "cells": [
  {
   "cell_type": "code",
   "execution_count": 34,
   "id": "61cf086a",
   "metadata": {
    "ExecuteTime": {
     "end_time": "2023-01-26T04:59:46.742139Z",
     "start_time": "2023-01-26T04:59:46.738130Z"
    }
   },
   "outputs": [],
   "source": [
    "from collections import defaultdict, deque"
   ]
  },
  {
   "cell_type": "code",
   "execution_count": 175,
   "id": "a26d06ee",
   "metadata": {
    "ExecuteTime": {
     "end_time": "2023-01-26T07:06:13.794999Z",
     "start_time": "2023-01-26T07:06:13.778998Z"
    }
   },
   "outputs": [],
   "source": [
    "vertex = [[3, 6], [4, 3], [3, 2], [1, 3], [1, 2], [2, 4], [5, 2]]"
   ]
  },
  {
   "cell_type": "code",
   "execution_count": 176,
   "id": "4a5dfb14",
   "metadata": {
    "ExecuteTime": {
     "end_time": "2023-01-26T07:06:14.293763Z",
     "start_time": "2023-01-26T07:06:14.283770Z"
    }
   },
   "outputs": [],
   "source": [
    "graph = defaultdict(list)\n",
    "visited = set()\n",
    "for a, b in vertex:\n",
    "    graph[a].append(b)\n",
    "    graph[b].append(a)\n",
    "    visited.add(a)\n",
    "    visited.add(b)"
   ]
  },
  {
   "cell_type": "code",
   "execution_count": 177,
   "id": "2a977058",
   "metadata": {
    "ExecuteTime": {
     "end_time": "2023-01-26T07:06:14.676246Z",
     "start_time": "2023-01-26T07:06:14.658246Z"
    }
   },
   "outputs": [],
   "source": [
    "tmp = {}\n",
    "for i in visited:\n",
    "    tmp[i] = 0\n",
    "visited = tmp"
   ]
  },
  {
   "cell_type": "code",
   "execution_count": 178,
   "id": "57cac3cd",
   "metadata": {
    "ExecuteTime": {
     "end_time": "2023-01-26T07:06:15.010832Z",
     "start_time": "2023-01-26T07:06:15.002838Z"
    }
   },
   "outputs": [],
   "source": [
    "def bfs(i, graph, visited):\n",
    "    que = deque([i])\n",
    "\n",
    "    while que:\n",
    "        t = que.popleft()\n",
    "        \n",
    "        for p in graph[t]:\n",
    "            if visited[p] == 0 and p != 1:\n",
    "                visited[p] = visited[t] + 1\n",
    "                que.append(p)\n",
    "                \n",
    "    "
   ]
  },
  {
   "cell_type": "code",
   "execution_count": 179,
   "id": "16a79b00",
   "metadata": {
    "ExecuteTime": {
     "end_time": "2023-01-26T07:06:16.206818Z",
     "start_time": "2023-01-26T07:06:16.195824Z"
    }
   },
   "outputs": [],
   "source": [
    "bfs(1, graph, visited)"
   ]
  },
  {
   "cell_type": "code",
   "execution_count": 180,
   "id": "46a042c8",
   "metadata": {
    "ExecuteTime": {
     "end_time": "2023-01-26T07:06:16.649038Z",
     "start_time": "2023-01-26T07:06:16.643042Z"
    }
   },
   "outputs": [],
   "source": [
    "answer = 0\n",
    "for i in visited.values():\n",
    "    if i == max(visited.values()):\n",
    "        answer += 1"
   ]
  },
  {
   "cell_type": "code",
   "execution_count": 181,
   "id": "668ba3ab",
   "metadata": {
    "ExecuteTime": {
     "end_time": "2023-01-26T07:06:17.046034Z",
     "start_time": "2023-01-26T07:06:17.026052Z"
    }
   },
   "outputs": [
    {
     "data": {
      "text/plain": [
       "3"
      ]
     },
     "execution_count": 181,
     "metadata": {},
     "output_type": "execute_result"
    }
   ],
   "source": [
    "answer"
   ]
  },
  {
   "cell_type": "code",
   "execution_count": null,
   "id": "f77ed2aa",
   "metadata": {},
   "outputs": [],
   "source": []
  }
 ],
 "metadata": {
  "kernelspec": {
   "display_name": "Python 3 (ipykernel)",
   "language": "python",
   "name": "python3"
  },
  "language_info": {
   "codemirror_mode": {
    "name": "ipython",
    "version": 3
   },
   "file_extension": ".py",
   "mimetype": "text/x-python",
   "name": "python",
   "nbconvert_exporter": "python",
   "pygments_lexer": "ipython3",
   "version": "3.9.13"
  },
  "toc": {
   "base_numbering": 1,
   "nav_menu": {},
   "number_sections": true,
   "sideBar": true,
   "skip_h1_title": false,
   "title_cell": "Table of Contents",
   "title_sidebar": "Contents",
   "toc_cell": false,
   "toc_position": {},
   "toc_section_display": true,
   "toc_window_display": false
  },
  "varInspector": {
   "cols": {
    "lenName": 16,
    "lenType": 16,
    "lenVar": 40
   },
   "kernels_config": {
    "python": {
     "delete_cmd_postfix": "",
     "delete_cmd_prefix": "del ",
     "library": "var_list.py",
     "varRefreshCmd": "print(var_dic_list())"
    },
    "r": {
     "delete_cmd_postfix": ") ",
     "delete_cmd_prefix": "rm(",
     "library": "var_list.r",
     "varRefreshCmd": "cat(var_dic_list()) "
    }
   },
   "types_to_exclude": [
    "module",
    "function",
    "builtin_function_or_method",
    "instance",
    "_Feature"
   ],
   "window_display": false
  }
 },
 "nbformat": 4,
 "nbformat_minor": 5
}
