{
  "nbformat": 4,
  "nbformat_minor": 0,
  "metadata": {
    "colab": {
      "provenance": []
    },
    "kernelspec": {
      "name": "python3",
      "display_name": "Python 3"
    }
  },
  "cells": [
    {
      "cell_type": "code",
      "source": [
        "numbers = [3, 30, 34, 5, 9]"
      ],
      "metadata": {
        "id": "dRjf46r1WGN9"
      },
      "execution_count": 16,
      "outputs": []
    },
    {
      "cell_type": "code",
      "source": [
        "tmp = []\n",
        "for number in numbers:\n",
        "    num = (str(number) * 4)[:4]\n",
        "    length = len(str(number))\n",
        "    tmp.append((num, length))\n",
        "tmp.sort(reverse=True)"
      ],
      "metadata": {
        "id": "4m64r0KDW5c9"
      },
      "execution_count": 22,
      "outputs": []
    },
    {
      "cell_type": "code",
      "source": [
        "sum = 0\n",
        "answer = ''\n",
        "for (num, length) in tmp:\n",
        "    sum += int(num)\n",
        "    if sum == 0:\n",
        "        answer = '0'\n",
        "    answer += num[:length]"
      ],
      "metadata": {
        "id": "aL27AhSZeCoN"
      },
      "execution_count": 24,
      "outputs": []
    },
    {
      "cell_type": "code",
      "source": [
        "answer"
      ],
      "metadata": {
        "colab": {
          "base_uri": "https://localhost:8080/",
          "height": 35
        },
        "id": "bALQd4_beEwk",
        "outputId": "9376166a-a6d1-4f3b-ccd6-3f9b88ce4d22"
      },
      "execution_count": 25,
      "outputs": [
        {
          "output_type": "execute_result",
          "data": {
            "text/plain": [
              "'9534330'"
            ],
            "application/vnd.google.colaboratory.intrinsic+json": {
              "type": "string"
            }
          },
          "metadata": {},
          "execution_count": 25
        }
      ]
    },
    {
      "cell_type": "code",
      "source": [],
      "metadata": {
        "id": "YymFJVsLnQGK"
      },
      "execution_count": null,
      "outputs": []
    }
  ]
}