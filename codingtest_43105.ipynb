{
  "nbformat": 4,
  "nbformat_minor": 0,
  "metadata": {
    "colab": {
      "provenance": [],
      "authorship_tag": "ABX9TyMP5ZNCLkZzSJq+wrHKB2J9"
    },
    "kernelspec": {
      "name": "python3",
      "display_name": "Python 3"
    },
    "language_info": {
      "name": "python"
    },
    "gpuClass": "standard"
  },
  "cells": [
    {
      "cell_type": "code",
      "execution_count": 1,
      "metadata": {
        "id": "u94d5NKGXmTv"
      },
      "outputs": [],
      "source": [
        "triangle = [[7], [3, 8], [8, 1, 0], [2, 7, 4, 4], [4, 5, 2, 6, 5]]"
      ]
    },
    {
      "cell_type": "code",
      "source": [
        "sum = []\n",
        "for item in triangle:\n",
        "    sum.append([0 for _ in range(len(item))])"
      ],
      "metadata": {
        "id": "XUvqIDs7kam8"
      },
      "execution_count": 19,
      "outputs": []
    },
    {
      "cell_type": "code",
      "source": [
        "sum[0][0] = triangle[0][0]"
      ],
      "metadata": {
        "id": "xaLUaRABkyxo"
      },
      "execution_count": 20,
      "outputs": []
    },
    {
      "cell_type": "code",
      "source": [
        "for i, item in enumerate(triangle):\n",
        "    if i == 0:\n",
        "        continue\n",
        "    else:\n",
        "        sum[i][0] = triangle[i][0] + sum[i-1][0]\n",
        "        sum[i][-1] = triangle[i][-1] + sum[i-1][-1]"
      ],
      "metadata": {
        "id": "nbgxEsVklmrX"
      },
      "execution_count": 21,
      "outputs": []
    },
    {
      "cell_type": "code",
      "source": [
        "for i in range(2, len(triangle)):\n",
        "    for t in range(1, len(triangle[i])-1):\n",
        "        sum[i][t] = max(sum[i-1][t-1], sum[i-1][t]) + triangle[i][t]"
      ],
      "metadata": {
        "id": "LaaaOCXwl1-m"
      },
      "execution_count": 23,
      "outputs": []
    },
    {
      "cell_type": "code",
      "source": [
        "answer = max(sum[-1])"
      ],
      "metadata": {
        "id": "nhT8leHBmcSu"
      },
      "execution_count": 26,
      "outputs": []
    }
  ]
}