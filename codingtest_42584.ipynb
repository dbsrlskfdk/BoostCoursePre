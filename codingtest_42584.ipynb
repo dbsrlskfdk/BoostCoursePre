{
  "nbformat": 4,
  "nbformat_minor": 0,
  "metadata": {
    "colab": {
      "provenance": []
    },
    "kernelspec": {
      "name": "python3",
      "display_name": "Python 3"
    }
  },
  "cells": [
    {
      "cell_type": "code",
      "source": [
        "prices = [1, 2, 3, 3, 1]\n",
        "length = len(prices)\n",
        "answer = [0 for _ in range(length)]\n",
        "stack = []"
      ],
      "metadata": {
        "id": "uejrqnq7LTrR"
      },
      "execution_count": 77,
      "outputs": []
    },
    {
      "cell_type": "code",
      "source": [
        "tmp = []\n",
        "for i, k in enumerate(prices):\n",
        "  if len(stack) == 0:\n",
        "    stack.append((i ,k))\n",
        "  elif stack[-1][1] > k:\n",
        "    for p in stack[::-1]:\n",
        "      if p[1] > k:\n",
        "        answer[p[0]] = i - p[0]\n",
        "        stack.pop()\n",
        "      else:\n",
        "        break\n",
        "    stack.append((i ,k)) \n",
        "  else:\n",
        "    stack.append((i ,k))\n",
        "\n",
        "for i in stack[::-1]:\n",
        "  answer[i[0]] = (length - 1) - i[0]"
      ],
      "metadata": {
        "id": "QT3S65xtMjsE"
      },
      "execution_count": 78,
      "outputs": []
    },
    {
      "cell_type": "code",
      "source": [
        "answer"
      ],
      "metadata": {
        "colab": {
          "base_uri": "https://localhost:8080/"
        },
        "id": "QS7dNhrKTPks",
        "outputId": "2fec07d2-7b86-437a-ef8a-9ac094803a42"
      },
      "execution_count": 80,
      "outputs": [
        {
          "output_type": "execute_result",
          "data": {
            "text/plain": [
              "[4, 3, 2, 1, 0]"
            ]
          },
          "metadata": {},
          "execution_count": 80
        }
      ]
    },
    {
      "cell_type": "code",
      "source": [],
      "metadata": {
        "id": "177E6kC3TuQz"
      },
      "execution_count": null,
      "outputs": []
    }
  ]
}