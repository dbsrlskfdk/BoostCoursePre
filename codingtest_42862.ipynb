{
  "nbformat": 4,
  "nbformat_minor": 0,
  "metadata": {
    "colab": {
      "provenance": []
    },
    "kernelspec": {
      "name": "python3",
      "display_name": "Python 3"
    }
  },
  "cells": [
    {
      "cell_type": "code",
      "source": [
        "n = 5\n",
        "lost = [2, 4]\n",
        "reserve = [1, 3, 5]"
      ],
      "metadata": {
        "id": "W7gajQpLgdwn"
      },
      "execution_count": 1,
      "outputs": []
    },
    {
      "cell_type": "code",
      "source": [
        "has = [1 for _ in range(n)]"
      ],
      "metadata": {
        "id": "KS8539Ol3oPy"
      },
      "execution_count": 7,
      "outputs": []
    },
    {
      "cell_type": "code",
      "source": [
        "for i in lost:\n",
        "    has[i-1] = 0\n",
        "for i in reserve:\n",
        "    has[i-1] += 1"
      ],
      "metadata": {
        "id": "ZX2Tcce733jI"
      },
      "execution_count": 8,
      "outputs": []
    },
    {
      "cell_type": "code",
      "source": [
        "for i in range(n):\n",
        "    if has[i] == 0:\n",
        "        if i == 0:\n",
        "            if has[i+1] == 2:\n",
        "                has[i] += 1\n",
        "                has[i+1] -= 1\n",
        "        elif i == n-1:\n",
        "            if has[i-1] == 2:\n",
        "                has[i] += 1\n",
        "                has[i-1] -= 1\n",
        "        else:\n",
        "            if has[i-1] == 2:\n",
        "                has[i] += 1\n",
        "                has[i-1] -= 1\n",
        "            elif has[i+1] == 2:\n",
        "                has[i] += 1\n",
        "                has[i+1] -= 1 "
      ],
      "metadata": {
        "id": "dv7QeTI74Hth"
      },
      "execution_count": 10,
      "outputs": []
    },
    {
      "cell_type": "code",
      "source": [
        "answer = n - has.count(0)"
      ],
      "metadata": {
        "id": "apjv3Kha4IFR"
      },
      "execution_count": 13,
      "outputs": []
    }
  ]
}