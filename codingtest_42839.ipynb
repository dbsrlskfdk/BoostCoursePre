{
 "nbformat": 4,
 "nbformat_minor": 0,
 "metadata": {
  "colab": {
   "provenance": []
  },
  "kernelspec": {
   "name": "python3",
   "display_name": "Python 3"
  }
 },
 "cells": [
  {
   "cell_type": "code",
   "source": [
    "from itertools import permutations"
   ],
   "metadata": {
    "id": "rrlSbBBaBf-I",
    "pycharm": {
     "name": "#%%\n"
    }
   },
   "execution_count": 37,
   "outputs": []
  },
  {
   "cell_type": "code",
   "source": [
    "numbers = \"011\"\t"
   ],
   "metadata": {
    "id": "-jnXeVksiVKU",
    "pycharm": {
     "name": "#%%\n"
    }
   },
   "execution_count": 53,
   "outputs": []
  },
  {
   "cell_type": "code",
   "source": [
    "num = set()\n",
    "for length in range(1, len(numbers) + 1):\n",
    "    for item in permutations(numbers, length):\n",
    "        a = ''.join(item)\n",
    "        num.add(int(a)) "
   ],
   "metadata": {
    "id": "pMBkhJ_4ougA",
    "pycharm": {
     "name": "#%%\n"
    }
   },
   "execution_count": 54,
   "outputs": []
  },
  {
   "cell_type": "code",
   "source": [
    "num"
   ],
   "metadata": {
    "colab": {
     "base_uri": "https://localhost:8080/"
    },
    "id": "uYKOx3s6B4Uq",
    "outputId": "990a8082-08cc-46e0-b32b-90cfb1a8ceb4",
    "pycharm": {
     "name": "#%%\n"
    }
   },
   "execution_count": 55,
   "outputs": [
    {
     "output_type": "execute_result",
     "data": {
      "text/plain": [
       "{0, 1, 10, 11, 101, 110}"
      ]
     },
     "metadata": {},
     "execution_count": 55
    }
   ]
  },
  {
   "cell_type": "code",
   "source": [
    "prime_num = [False for _ in range(10000000)]"
   ],
   "metadata": {
    "id": "9T5eoEHYt8JZ",
    "pycharm": {
     "name": "#%%\n"
    }
   },
   "execution_count": 64,
   "outputs": []
  },
  {
   "cell_type": "code",
   "source": [
    "for i in range(2, int(1000_000 / 2)):\n",
    "    if prime_num[i] == False:\n",
    "        iter_num = 2\n",
    "        \n",
    "        while i  * iter_num< 1000_0000:\n",
    "            if prime_num[i * iter_num] == False:\n",
    "                prime_num[i * iter_num] = True\n",
    "            iter_num += 1"
   ],
   "metadata": {
    "id": "mgpcllKwvmuq",
    "pycharm": {
     "name": "#%%\n"
    }
   },
   "execution_count": 65,
   "outputs": []
  },
  {
   "cell_type": "code",
   "source": [
    "answer = 0\n",
    "for i in num:\n",
    "    if  i > 1 and not prime_num[i]:\n",
    "        answer += 1"
   ],
   "metadata": {
    "id": "034h7whi_K4Q",
    "pycharm": {
     "name": "#%%\n"
    }
   },
   "execution_count": 68,
   "outputs": []
  },
  {
   "cell_type": "code",
   "source": [
    "answer"
   ],
   "metadata": {
    "colab": {
     "base_uri": "https://localhost:8080/"
    },
    "id": "6VzDMPE4CB93",
    "outputId": "c22c62a1-11cc-4a0b-aee3-d44fbd0b729a",
    "pycharm": {
     "name": "#%%\n"
    }
   },
   "execution_count": 69,
   "outputs": [
    {
     "output_type": "execute_result",
     "data": {
      "text/plain": [
       "2"
      ]
     },
     "metadata": {},
     "execution_count": 69
    }
   ]
  },
  {
   "cell_type": "code",
   "source": [],
   "metadata": {
    "id": "J-CfgjZRDbTe",
    "pycharm": {
     "name": "#%%\n"
    }
   },
   "execution_count": null,
   "outputs": []
  }
 ]
}