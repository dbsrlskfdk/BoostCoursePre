{
  "nbformat": 4,
  "nbformat_minor": 0,
  "metadata": {
    "colab": {
      "provenance": [],
      "authorship_tag": "ABX9TyMR5K5rfEYoi5NWBQsFwoPQ"
    },
    "kernelspec": {
      "name": "python3",
      "display_name": "Python 3"
    },
    "language_info": {
      "name": "python"
    },
    "gpuClass": "standard"
  },
  "cells": [
    {
      "cell_type": "code",
      "source": [
        "record = [\"Enter uid1234 Muzi\",\n",
        "          \"Enter uid4567 Prodo\",\n",
        "          \"Leave uid1234\",\n",
        "          \"Enter uid1234 Prodo\",\n",
        "          \"Change uid4567 Ryan\"]"
      ],
      "metadata": {
        "id": "uzPfQ2sU1cr1"
      },
      "execution_count": 1,
      "outputs": []
    },
    {
      "cell_type": "code",
      "source": [
        "command = []\n",
        "uid_name = {}"
      ],
      "metadata": {
        "id": "4oxdE5ZY1gxS"
      },
      "execution_count": 16,
      "outputs": []
    },
    {
      "cell_type": "code",
      "source": [
        "for item in record:\n",
        "    if item.split(\" \")[0] != 'Change':\n",
        "        command.append(item.split(\" \")[0] + \" \" + item.split(\" \")[1])\n",
        "    if item.split(\" \")[0] != 'Leave':\n",
        "        uid_name[item.split(\" \")[1]] = item.split(\" \")[2]        \n"
      ],
      "metadata": {
        "id": "ZVj1enHk4OgF"
      },
      "execution_count": 17,
      "outputs": []
    },
    {
      "cell_type": "code",
      "source": [
        "uid_name"
      ],
      "metadata": {
        "colab": {
          "base_uri": "https://localhost:8080/"
        },
        "id": "5GnT3Lh-5OYW",
        "outputId": "03df6bae-ea2c-4f00-f98d-ed46f5619736"
      },
      "execution_count": 18,
      "outputs": [
        {
          "output_type": "execute_result",
          "data": {
            "text/plain": [
              "{'uid1234': 'Prodo', 'uid4567': 'Ryan'}"
            ]
          },
          "metadata": {},
          "execution_count": 18
        }
      ]
    },
    {
      "cell_type": "code",
      "source": [
        "command"
      ],
      "metadata": {
        "colab": {
          "base_uri": "https://localhost:8080/"
        },
        "id": "yQpMi3lA5Xy_",
        "outputId": "a55fbf22-fd71-4f5b-f63f-26ffec99a725"
      },
      "execution_count": 19,
      "outputs": [
        {
          "output_type": "execute_result",
          "data": {
            "text/plain": [
              "['Enter uid1234', 'Enter uid4567', 'Leave uid1234', 'Enter uid1234']"
            ]
          },
          "metadata": {},
          "execution_count": 19
        }
      ]
    },
    {
      "cell_type": "code",
      "source": [
        "answer = []\n",
        "for com in command:\n",
        "    if com.split(\" \")[0] == 'Enter':\n",
        "        answer.append(uid_name[com.split(\" \")[1]]+\"님이 들어왔습니다.\")\n",
        "    else:\n",
        "        answer.append(uid_name[com.split(\" \")[1]]+\"님이 나갔습니다.\")"
      ],
      "metadata": {
        "id": "KAkzK_3A53oJ"
      },
      "execution_count": 21,
      "outputs": []
    },
    {
      "cell_type": "code",
      "source": [
        "answer"
      ],
      "metadata": {
        "colab": {
          "base_uri": "https://localhost:8080/"
        },
        "id": "HUuT2_pm6m_h",
        "outputId": "917ae01a-eb7d-4d98-f7c4-611276c84834"
      },
      "execution_count": 22,
      "outputs": [
        {
          "output_type": "execute_result",
          "data": {
            "text/plain": [
              "['Prodo님이 들어왔습니다.', 'Ryan님이 들어왔습니다.', 'Prodo님이 나갔습니다.', 'Prodo님이 들어왔습니다.']"
            ]
          },
          "metadata": {},
          "execution_count": 22
        }
      ]
    },
    {
      "cell_type": "code",
      "source": [],
      "metadata": {
        "id": "mxcg_mRk6yp9"
      },
      "execution_count": null,
      "outputs": []
    }
  ]
}